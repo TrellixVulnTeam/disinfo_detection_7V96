{
 "cells": [
  {
   "cell_type": "code",
   "execution_count": 1,
   "metadata": {},
   "outputs": [
    {
     "name": "stdout",
     "output_type": "stream",
     "text": [
      "DiGraph with 999 nodes and 9839 edges\n"
     ]
    }
   ],
   "source": [
    "import networkx as nx\n",
    "from pyvis.network import Network\n",
    "import numpy as np\n",
    "import pickle\n",
    "\n",
    "\n",
    "G = nx.DiGraph()\n",
    "G.add_nodes_from([(x, {'color' : 'blue'}) for x in range(499)])\n",
    "G.add_nodes_from([(x, {'color' : 'red'}) for x in range(499,999)])\n",
    "with open('connections.pkl' ,'rb') as f:\n",
    "    connections = pickle.load(f)\n",
    "f.close()\n",
    "# connections = np.random.randint(2, size=(999,999))\n",
    "for c in zip(np.where(connections)[0], np.where(connections)[1]):\n",
    "    G.add_edge(int(c[0]), int(c[1]))\n",
    "\n",
    "print(G)\n",
    "\n",
    "net = Network()\n",
    "net.from_nx(G)\n",
    "net.show_buttons()\n",
    "net.show('example.html')"
   ]
  }
 ],
 "metadata": {
  "interpreter": {
   "hash": "1131efc7635b497546d7e8fbc76ad9d1f9d5d5d7857bcde935d6feea39d08984"
  },
  "kernelspec": {
   "display_name": "Python 3.8.6 64-bit",
   "name": "python3"
  },
  "language_info": {
   "codemirror_mode": {
    "name": "ipython",
    "version": 3
   },
   "file_extension": ".py",
   "mimetype": "text/x-python",
   "name": "python",
   "nbconvert_exporter": "python",
   "pygments_lexer": "ipython3",
   "version": "3.8.6"
  },
  "orig_nbformat": 4
 },
 "nbformat": 4,
 "nbformat_minor": 2
}
