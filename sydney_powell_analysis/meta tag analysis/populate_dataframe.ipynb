{
 "cells": [
  {
   "cell_type": "code",
   "execution_count": 3,
   "metadata": {},
   "outputs": [
    {
     "name": "stderr",
     "output_type": "stream",
     "text": [
      "  0%|          | 0/61 [00:00<?, ?it/s]"
     ]
    },
    {
     "name": "stdout",
     "output_type": "stream",
     "text": [
      "Loading Dataframe...\n",
      "Tokenizing DataFrame\n"
     ]
    },
    {
     "name": "stderr",
     "output_type": "stream",
     "text": [
      "100%|██████████| 61/61 [00:04<00:00, 14.70it/s]\n"
     ]
    }
   ],
   "source": [
    "from nltk import word_tokenize\n",
    "from nltk.stem import WordNetLemmatizer, PorterStemmer\n",
    "from nltk.corpus import stopwords\n",
    "from tqdm import tqdm\n",
    "import pickle\n",
    "import pandas as pd\n",
    "from pathlib import Path\n",
    "\n",
    "def clean_text(text):\n",
    "    '''\n",
    "    cleans text of punctuation, strange characters, and numbers\n",
    "    '''\n",
    "    text = str(text)\n",
    "    text = text.replace(\"\\n\", \" \").replace(\"\\r\", \" \")\n",
    "    punc_list = '!\"#$%&()*+, -./:;<=>?@[\\]^_{|}~' + '0123456789'\n",
    "    t = str.maketrans(dict.fromkeys(punc_list, \" \"))\n",
    "    text = text.translate(t)\n",
    "\n",
    "    # Replace single quote with empty character\n",
    "    t = str.maketrans(dict.fromkeys(\"'`\", \"\"))\n",
    "    text = text.translate(t)\n",
    "\n",
    "    return text.lower()\n",
    "\n",
    "def tokenize_dataframe(df, source_col):\n",
    "    '''\n",
    "    Takes df[col] and tokenizes the string into a list of tokens\n",
    "    '''\n",
    "    tokenized = []\n",
    "    lemmatizer = WordNetLemmatizer()\n",
    "    porter = PorterStemmer()\n",
    "    stop_words = set(stopwords.words('english'))\n",
    "    \n",
    "    for _, row in tqdm(df.iterrows(), total=len(df)):\n",
    "        text = row[source_col]\n",
    "        text = clean_text(text)\n",
    "        tokens = word_tokenize(text)\n",
    "        lemstem = []\n",
    "        for word in tokens:\n",
    "            lemstem.append(porter.stem(lemmatizer.lemmatize(word)))\n",
    "        final = [w for w in lemstem if not w in stop_words]\n",
    "\n",
    "        tokenized.append(final)\n",
    "    return tokenized\n",
    "\n",
    "print('Loading Dataframe...')\n",
    "with open(Path.cwd() / 'sp_df_tokenized.pkl', 'rb') as f:\n",
    "    df = pickle.load(f)\n",
    "\n",
    "print('Tokenizing DataFrame') \n",
    "tokenized = tokenize_dataframe(df, 'meta_text')\n",
    "\n",
    "df['meta_tokenized'] = tokenized"
   ]
  },
  {
   "cell_type": "code",
   "execution_count": 6,
   "metadata": {},
   "outputs": [],
   "source": [
    "with open(Path.cwd() / 'sp_df_tokenized.pkl', 'wb') as f:\n",
    "    pickle.dump(df, f)"
   ]
  }
 ],
 "metadata": {
  "interpreter": {
   "hash": "1131efc7635b497546d7e8fbc76ad9d1f9d5d5d7857bcde935d6feea39d08984"
  },
  "kernelspec": {
   "display_name": "Python 3.8.6 64-bit",
   "language": "python",
   "name": "python3"
  },
  "language_info": {
   "codemirror_mode": {
    "name": "ipython",
    "version": 3
   },
   "file_extension": ".py",
   "mimetype": "text/x-python",
   "name": "python",
   "nbconvert_exporter": "python",
   "pygments_lexer": "ipython3",
   "version": "3.8.6"
  },
  "orig_nbformat": 4
 },
 "nbformat": 4,
 "nbformat_minor": 2
}
