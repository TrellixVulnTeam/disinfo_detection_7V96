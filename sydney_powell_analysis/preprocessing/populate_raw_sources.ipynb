{
 "cells": [
  {
   "cell_type": "markdown",
   "metadata": {},
   "source": [
    "## Takes raw data scraped from the 100 hand selected 'fake' and 'real' datasets and parses them into easily manageable folders, contained in the directory **raw_sources**"
   ]
  },
  {
   "cell_type": "code",
   "execution_count": 4,
   "metadata": {},
   "outputs": [
    {
     "name": "stdout",
     "output_type": "stream",
     "text": [
      "['https://thecommonsenseshow.com/', 'https://disclose.tv/', 'https://collective-evolution.com/', 'https://govtslaves.info/', 'https://investmentwatchblog.com/', 'https://worldtruth.tv/', 'https://abovetopsecret.com/', 'https://activistpost.com/', 'https://amren.com/', 'https://blacklistednews.com/', 'https://davidstockmanscontracorner.com/', 'https://dcclothesline.com/', 'https://eutimes.net/', 'https://frontpagemag.com/', 'https://humansarefree.com/', 'https://lewrockwell.com/', 'https://naturalblaze.com/', 'https://shtfplan.com/', 'https://thefederalistpapers.org/', 'https://thenewamerican.com/', 'https://thegoldwater.com/', 'https://trunews.com/', 'https://russia-insider.com/', 'https://sott.net/', 'https://thesaker.is/', 'https://wearechange.org/', 'https://godlikeproductions.com/', 'https://galacticconnection.com/', 'https://informationclearinghouse.info/', 'https://shiftfrequency.com/', 'https://veteranstoday.com/', 'https://prisonplanet.com/', 'https://consortiumnews.com/', 'https://nowtheendbegins.com/', 'https://whydontyoutrythis.com/', 'https://redice.tv/', 'https://thetruthseeker.co.uk/', 'https://unz.com/', 'https://thecontroversialfiles.net/', 'https://nationalenquirer.com/', 'https://beforeitsnews.com/', 'https://paulcraigroberts.org/', 'https://davidduke.com/', 'https://wakingtimes.com/', 'https://anonhq.com/', 'https://healthimpactnews.com/', 'https://bluntforcetruth.com/', 'https://gulagbound.com/', 'https://thedailybell.com/', 'https://darkmoon.me/', 'https://corbettreport.com/', 'https://endoftheamericandream.com/', 'https://21stcenturywire.com/', 'https://moonofalabama.org/', 'https://libertyblitzkrieg.com/', 'https://conservativedailypost.com/', 'https://geoengineeringwatch.org/', 'https://naturalnews.com/', 'https://patriotrising.com/', 'https://sgtreport.com/', 'https://theduran.com/', 'https://bb4sp.com/', 'https://nutritionfacts.org/', 'https://westernjournalism.com/', 'https://bipartisanreport.com/', 'https://wnd.com/', 'https://newstarget.com/', 'https://off-guardian.org/', 'https://renewamerica.com/', 'https://americasfreedomfighters.com/', 'https://prepperwebsite.com/', 'https://vigilantcitizen.com/', 'https://infowars.com/', 'https://dailybuzzlive.com/', 'https://dailyheadlines.net/', 'https://notallowedto.com/', 'https://now8news.com/', 'https://therundownlive.com/', 'https://actionnews3.com/', 'https://allnewspipeline.com/', 'https://bighairynews.com/', 'https://clashdaily.com/', 'https://consciouslifenews.com/', 'https://dailyheadlines.com/', 'https://dailysurge.com/', 'https://in5d.com/', 'https://infostormer.com/', 'https://news4ktla.com/', 'https://newswithviews.com/', 'https://onepoliticalplaza.com/', 'https://rense.com/', 'https://rogue-nation3.com/', 'https://stormcloudsgathering.com/', 'https://teaparty.org/', 'https://vidmax.com/', 'https://thefreepatriot.org/', 'https://threepercenternation.com/', 'https://undergroundworldnews.com/', 'https://usamagazinestudio.com/', 'https://oathkeepers.org/']\n"
     ]
    }
   ],
   "source": [
    "import pickle\n",
    "import pandas\n",
    "\n",
    "# First load keys\n",
    "with open('100_fake_link_lists_df.pkl', 'rb') as f:\n",
    "    fake_key = pickle.load(f)\n",
    "f.close()\n",
    "\n",
    "\n",
    "with open('100_real_link_lists_df.pkl', 'rb') as f:\n",
    "    real_key = pickle.load(f)\n",
    "f.close()\n",
    "\n",
    "# First load keys\n",
    "with open('100_fake_list.pkl', 'rb') as f:\n",
    "    fake_list = pickle.load(f)\n",
    "f.close()\n",
    "\n",
    "\n",
    "with open('100_real_list.pkl', 'rb') as f:\n",
    "    real_list = pickle.load(f)\n",
    "f.close()\n",
    "\n",
    "real_key.head()\n",
    "print(fake_list)"
   ]
  },
  {
   "cell_type": "code",
   "execution_count": 11,
   "metadata": {},
   "outputs": [],
   "source": [
    "real_labels = ['real' for _ in range(100)]\n",
    "fake_labels = ['fake' for _ in range(100)]\n",
    "labels = real_labels + fake_labels\n",
    "domains = real_list + fake_list\n",
    "\n",
    "df = pandas.DataFrame(domains, columns=['Domain'])\n",
    "df['Label'] = labels\n",
    "df.to_csv('Curated Dataset.csv')\n"
   ]
  },
  {
   "cell_type": "code",
   "execution_count": 19,
   "metadata": {},
   "outputs": [
    {
     "name": "stderr",
     "output_type": "stream",
     "text": [
      "101it [10:19,  6.13s/it]\n"
     ]
    }
   ],
   "source": [
    "from pathlib import Path\n",
    "import os\n",
    "import shutil\n",
    "from tqdm import tqdm\n",
    " \n",
    "real_source_dir =  'X:\\\\sources_real'\n",
    "real_targ_dir = Path.cwd().parent / 'raw_sources' / 'real'\n",
    "fake_source_dir =  'X:\\\\sources_fake'\n",
    "fake_targ_dir = Path.cwd().parent / 'raw_sources' / 'fake'\n",
    "\n",
    "def create_dir(target_directory):\n",
    "    if not os.path.isdir(str(target_directory)):\n",
    "        os.mkdir(target_directory)\n",
    "        \n",
    "# Copy files from desktop to working directory\n",
    "def parse_files(source_directory, target_directory):\n",
    "    for x, y, _ in tqdm(os.walk(source_directory)):\n",
    "        for site in y:\n",
    "            for path in os.listdir(x + '\\\\' + str(site)):\n",
    "                p = x + '\\\\' + str(site) + '\\\\' + path\n",
    "\n",
    "                if p.split('.')[-1] == 'png': # if screenshot\n",
    "                    target_dir = target_directory / 'screenshots' / str(site)\n",
    "                elif p.split('.')[-1] == 'pkl': # if link_list\n",
    "                    target_dir = target_directory / 'link_lists' / str(site)\n",
    "                else: # if html file\n",
    "                    target_dir = target_directory / 'html' / str(site)\n",
    "\n",
    "                create_dir(target_dir)\n",
    "                _ = shutil.copy(p, str(target_dir))\n",
    "\n",
    "parse_files(real_source_dir, real_targ_dir)"
   ]
  },
  {
   "cell_type": "code",
   "execution_count": 20,
   "metadata": {},
   "outputs": [
    {
     "name": "stderr",
     "output_type": "stream",
     "text": [
      "101it [07:53,  4.69s/it]\n"
     ]
    }
   ],
   "source": [
    "parse_files(fake_source_dir, fake_targ_dir)"
   ]
  }
 ],
 "metadata": {
  "interpreter": {
   "hash": "1131efc7635b497546d7e8fbc76ad9d1f9d5d5d7857bcde935d6feea39d08984"
  },
  "kernelspec": {
   "display_name": "Python 3.8.6 64-bit",
   "name": "python3"
  },
  "language_info": {
   "codemirror_mode": {
    "name": "ipython",
    "version": 3
   },
   "file_extension": ".py",
   "mimetype": "text/x-python",
   "name": "python",
   "nbconvert_exporter": "python",
   "pygments_lexer": "ipython3",
   "version": "3.8.6"
  },
  "orig_nbformat": 4
 },
 "nbformat": 4,
 "nbformat_minor": 2
}
