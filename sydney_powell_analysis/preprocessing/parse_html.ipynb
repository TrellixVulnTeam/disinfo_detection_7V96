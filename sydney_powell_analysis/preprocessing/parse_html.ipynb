{
 "cells": [
  {
   "cell_type": "markdown",
   "source": [
    "## Parses through the HTML of /datadir/sources and saves relevant HTML elements"
   ],
   "metadata": {}
  },
  {
   "cell_type": "markdown",
   "source": [
    "### Get list of files to parse"
   ],
   "metadata": {}
  },
  {
   "cell_type": "code",
   "execution_count": 20,
   "source": [
    "import os\r\n",
    "from pathlib import Path\r\n",
    "\r\n",
    "root = Path.cwd() / 'sources'\r\n",
    "\r\n",
    "dirlist = []\r\n",
    "for dir_ in os.listdir(root):\r\n",
    "    dirlist.append(str(root) + '\\\\' + dir_)\r\n",
    "\r\n",
    "html_files = []\r\n",
    "for dir_ in dirlist:\r\n",
    "    # walk and get list of .html files\r\n",
    "    for x, y, z in os.walk(dir_):\r\n",
    "        html_files += [dir_ + '\\\\' + x for x in z if x[-4:] == 'html']"
   ],
   "outputs": [],
   "metadata": {}
  },
  {
   "cell_type": "code",
   "execution_count": 61,
   "source": [
    "from bs4 import BeautifulSoup\r\n",
    "from tqdm import tqdm\r\n",
    "import re\r\n",
    "\r\n",
    "num_empty = 0\r\n",
    "for dir_ in tqdm(html_files):\r\n",
    "    with open(dir_, encoding='utf8') as f:\r\n",
    "        soup = BeautifulSoup(f, 'html.parser')\r\n",
    "    f.close()\r\n",
    "    body = soup.find_all('p')\r\n",
    "\r\n",
    "    # get parsed paragraph\r\n",
    "    content = []\r\n",
    "    for p in body:\r\n",
    "        if not p.attrs:\r\n",
    "            if p.string and p.string != ' ':\r\n",
    "                content.append(p.string + '\\n')\r\n",
    "\r\n",
    "    file_name = re.search('(?<=sources).*', dir_[:-5]).group(0)[1:].replace('\\\\', '_') + '.txt'\r\n",
    "    file_path = Path.cwd() / 'parsed' / 'real' / file_name\r\n",
    "    \r\n",
    "    if content:\r\n",
    "        with open(file_path, 'a', encoding='utf8') as f:\r\n",
    "            f.writelines(content)\r\n",
    "    else:\r\n",
    "        num_empty += 1\r\n",
    "    \r\n",
    "print('there are {} html files with no <p> tag'.format(num_empty))\r\n"
   ],
   "outputs": [
    {
     "output_type": "stream",
     "name": "stderr",
     "text": [
      "100%|██████████| 1109/1109 [02:56<00:00,  6.29it/s]"
     ]
    },
    {
     "output_type": "stream",
     "name": "stdout",
     "text": [
      "there are 205 html files with no <p> tag\n"
     ]
    },
    {
     "output_type": "stream",
     "name": "stderr",
     "text": [
      "\n"
     ]
    }
   ],
   "metadata": {}
  },
  {
   "cell_type": "code",
   "execution_count": 54,
   "source": [
    "re.search('(?<=sources).*', html_files[0][:-5]).group(0)[1:].replace('\\\\', '_') + '.txt'"
   ],
   "outputs": [
    {
     "output_type": "execute_result",
     "data": {
      "text/plain": [
       "'0_0.txt'"
      ]
     },
     "metadata": {},
     "execution_count": 54
    }
   ],
   "metadata": {}
  }
 ],
 "metadata": {
  "orig_nbformat": 4,
  "language_info": {
   "name": "python",
   "version": "3.8.6",
   "mimetype": "text/x-python",
   "codemirror_mode": {
    "name": "ipython",
    "version": 3
   },
   "pygments_lexer": "ipython3",
   "nbconvert_exporter": "python",
   "file_extension": ".py"
  },
  "kernelspec": {
   "name": "python3",
   "display_name": "Python 3.8.6 64-bit"
  },
  "interpreter": {
   "hash": "1131efc7635b497546d7e8fbc76ad9d1f9d5d5d7857bcde935d6feea39d08984"
  }
 },
 "nbformat": 4,
 "nbformat_minor": 2
}