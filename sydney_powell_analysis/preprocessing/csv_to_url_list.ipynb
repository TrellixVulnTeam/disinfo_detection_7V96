{
 "cells": [
  {
   "cell_type": "code",
   "execution_count": 34,
   "metadata": {},
   "outputs": [],
   "source": [
    "import pandas as pd\n",
    "from pathlib import Path\n",
    "import pickle\n",
    "\n",
    "\n",
    "df = pd.read_csv(Path.cwd().parent / 'sydney_powell_uniques.csv', header=None)\n",
    "df = df.rename(columns={0 : 'urls'})\n",
    "df = df.drop_duplicates()\n",
    "df['urls'] = df.apply(lambda row: row.urls[4:] if row.urls.startswith('www.') else row.urls, axis=1)\n",
    "df.drop([0, 3], axis=0, inplace=True)\n"
   ]
  },
  {
   "cell_type": "code",
   "execution_count": 35,
   "metadata": {},
   "outputs": [
    {
     "name": "stdout",
     "output_type": "stream",
     "text": [
      "{0: 'http://dailyexpose.uk', 1: 'http://rumble.com', 2: 'http://harpers.org', 3: 'http://kanekoa.substack.com', 4: 'http://salon.com', 5: 'http://theepochtimes.com', 6: 'http://pattyporter.net', 7: 'http://independentside.com', 8: 'http://bradblog.com', 9: 'http://technofog.substack.com', 10: 'http://alexberenson.substack.com', 11: 'http://t.me', 12: 'http://gettr.com', 13: 'http://theguardian.com', 14: 'http://apne.ws', 15: 'http://nypost.com', 16: 'http://reuters.com', 17: 'http://newyorker.com', 18: 'http://stevekirsch.substack.com', 19: 'http://publicinterestlegal.org', 20: 'http://therenewal2022.org', 21: 'http://telegra.ph', 22: 'http://tinyurl.com', 23: 'http://americaoutloud.com', 24: 'http://twitter.com', 25: 'http://gao.gov', 26: 'http://espn.com', 27: 'http://madison.com', 28: 'http://americanlibertyemail.com', 29: 'http://voiceamerica.com', 30: 'http://coachdavelive.video', 31: 'http://jimmarchant.com', 32: 'http://khn.org', 33: 'http://tsionizm.com', 34: 'http://freeworldnews.tv', 35: 'http://podcasts.apple.com', 36: 'http://rwmalonemd.substack.com', 37: 'http://robertspencer.org', 38: 'http://dossier.substack.com', 39: 'http://dailymail.co.uk', 40: 'http://fightbacklaw.pidoxapay.com', 41: 'http://thekylebecker.substack.com', 42: 'http://mobile.twitter.com', 43: 'http://florida4america.org', 44: 'http://taskandpurpose.com', 45: 'http://worldviewweekend.com', 46: 'http://phmpt.org', 47: 'http://t.co', 48: 'http://conservativechange.org', 49: 'http://mielectionprotection.com', 50: 'http://globalcovidsummit.org', 51: 'http://letsfixstuff.org', 52: 'http://chicagotribune.com', 53: 'http://news-leader.com', 54: 'http://google.com', 55: 'http://voterga.org', 56: 'http://americacanwetalk.org', 57: 'http://wkbw.com', 58: 'http://lc.org', 59: 'http://abcnews.go.com', 60: 'http://resistthemainstream.org', 61: 'http://thehill.com', 62: 'http://axios.com', 63: 'http://tsarizm.com', 64: 'http://medrxiv.org', 65: 'http://media.babylonbee.com', 66: 'http://dailynewsbreak.org', 67: 'http://futurenews.news', 68: 'http://starfirecodes.substack.com', 69: 'http://youtube.com', 70: 'http://greenwald.substack.com', 71: 'http://conservativebrief.com', 72: 'http://jennycohn1.medium.com', 73: 'http://floridapolitics.com', 74: 'http://highereddive.com', 75: 'http://sidneypowell.com', 76: 'http://foxnews.com', 77: 'http://documentcloud.org', 78: 'http://france24.com', 79: 'http://aps.edu', 80: 'http://buzzfeednews.com', 81: 'http://timesofisrael.com', 82: 'http://americanfaith.com', 83: 'http://myemail.constantcontact.com', 84: 'http://parler.com', 85: 'http://public-inspection.federalregister.gov'}\n"
     ]
    }
   ],
   "source": [
    "real_list = df['urls'].tolist()\n",
    "\n",
    "real = []\n",
    "for source in real_list:\n",
    "    real.append('http://' + str(source))\n",
    "\n",
    "with open('url_list_sp.pkl', 'wb') as f:\n",
    "    pickle.dump(real, f)\n",
    "\n",
    "url_key_sp = {}\n",
    "for i in range(len(real)):\n",
    "    url_key_sp[i] = real[i]\n",
    "\n",
    "print(url_key_sp)\n",
    "\n",
    "with open('url_key_sp.pkl', 'wb') as f:\n",
    "    pickle.dump(url_key_sp, f)"
   ]
  },
  {
   "cell_type": "code",
   "execution_count": 2,
   "metadata": {},
   "outputs": [],
   "source": [
    "fake_list = []\n",
    "for k, v in real_url_key_100.items():\n",
    "    fake_list.append(v)"
   ]
  },
  {
   "cell_type": "code",
   "execution_count": 3,
   "metadata": {},
   "outputs": [],
   "source": [
    "with open('100_fake_list.pkl', 'wb') as f:\n",
    "    pickle.dump(fake_list, f)\n",
    "f.close()"
   ]
  }
 ],
 "metadata": {
  "interpreter": {
   "hash": "1131efc7635b497546d7e8fbc76ad9d1f9d5d5d7857bcde935d6feea39d08984"
  },
  "kernelspec": {
   "display_name": "Python 3.8.6 64-bit",
   "name": "python3"
  },
  "language_info": {
   "codemirror_mode": {
    "name": "ipython",
    "version": 3
   },
   "file_extension": ".py",
   "mimetype": "text/x-python",
   "name": "python",
   "nbconvert_exporter": "python",
   "pygments_lexer": "ipython3",
   "version": "3.8.6"
  },
  "orig_nbformat": 4
 },
 "nbformat": 4,
 "nbformat_minor": 2
}
