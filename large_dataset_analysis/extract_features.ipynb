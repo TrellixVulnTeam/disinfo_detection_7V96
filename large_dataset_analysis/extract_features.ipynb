{
 "cells": [
  {
   "cell_type": "code",
   "execution_count": 1,
   "metadata": {},
   "outputs": [],
   "source": [
    "from preprocessing_functions import *\n",
    "\n",
    "real_source_dir = str(Path.cwd().parent / 'raw_sources' / 'real_html' / 'sources')\n",
    "real_target_dir = str(Path.cwd().parent / 'html_parsed' / 'real_500')\n",
    "fake_source_dir = str(Path.cwd().parent / 'raw_sources' / 'fake_html' / 'sources')\n",
    "fake_target_dir = str(Path.cwd().parent / 'html_parsed' / 'fake_500')"
   ]
  },
  {
   "cell_type": "code",
   "execution_count": 2,
   "metadata": {},
   "outputs": [
    {
     "name": "stderr",
     "output_type": "stream",
     "text": [
      "100%|██████████| 500/500 [3:05:59<00:00, 22.32s/it]\n"
     ]
    }
   ],
   "source": [
    "populate_all_visible_text(real_source_dir, real_target_dir)"
   ]
  },
  {
   "cell_type": "code",
   "execution_count": 3,
   "metadata": {},
   "outputs": [
    {
     "name": "stderr",
     "output_type": "stream",
     "text": [
      "100%|██████████| 499/499 [2:35:54<00:00, 18.75s/it]\n"
     ]
    }
   ],
   "source": [
    "populate_all_visible_text(fake_source_dir, fake_target_dir)"
   ]
  }
 ],
 "metadata": {
  "interpreter": {
   "hash": "1131efc7635b497546d7e8fbc76ad9d1f9d5d5d7857bcde935d6feea39d08984"
  },
  "kernelspec": {
   "display_name": "Python 3.8.6 64-bit",
   "name": "python3"
  },
  "language_info": {
   "codemirror_mode": {
    "name": "ipython",
    "version": 3
   },
   "file_extension": ".py",
   "mimetype": "text/x-python",
   "name": "python",
   "nbconvert_exporter": "python",
   "pygments_lexer": "ipython3",
   "version": "3.8.6"
  },
  "orig_nbformat": 4
 },
 "nbformat": 4,
 "nbformat_minor": 2
}
