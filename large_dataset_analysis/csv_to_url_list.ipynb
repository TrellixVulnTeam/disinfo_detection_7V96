{
 "cells": [
  {
   "cell_type": "markdown",
   "metadata": {},
   "source": [
    "## This notebook takes a csv with a column of links and saves it to a pickle file\n",
    "\n",
    "## After running this, use breadth_first_link_search.py to get intra-referring links from the original imported list"
   ]
  },
  {
   "cell_type": "code",
   "execution_count": 2,
   "metadata": {},
   "outputs": [
    {
     "name": "stdout",
     "output_type": "stream",
     "text": [
      "Saved 500_real_list.pkl\n",
      "Length of list: 500\n",
      "Saved 500_fake_list.pkl\n",
      "Length of list: 500\n"
     ]
    }
   ],
   "source": [
    "from preprocessing_functions import *\n",
    "from pathlib import Path\n",
    "\n",
    "# REAL\n",
    "path_to_csv = Path.cwd().parent / 'fake_real_CSVs' / '500_real.csv'\n",
    "outfile_name = '500_real_list.pkl'\n",
    "csv_to_url_list(path_to_csv, 'source', outfile_name)\n",
    "\n",
    "# FAKE\n",
    "path_to_csv = Path.cwd().parent / 'fake_real_CSVs' / '500_fake.csv'\n",
    "outfile_name = '500_fake_list.pkl'\n",
    "csv_to_url_list(path_to_csv, 'source', outfile_name)"
   ]
  },
  {
   "cell_type": "markdown",
   "metadata": {},
   "source": [
    "## GDI"
   ]
  },
  {
   "cell_type": "code",
   "execution_count": 1,
   "metadata": {},
   "outputs": [
    {
     "name": "stdout",
     "output_type": "stream",
     "text": [
      "Saved GDI_list.pkl\n",
      "Length of list: 1258\n"
     ]
    }
   ],
   "source": [
    "from preprocessing_functions import *\n",
    "from pathlib import Path\n",
    "\n",
    "# REAL\n",
    "path_to_csv = Path.cwd().parent.parent / 'new data' / 'GDI_domains.csv'\n",
    "outfile_name = 'GDI_list.pkl'\n",
    "csv_to_url_list(path_to_csv, 'source', outfile_name)"
   ]
  }
 ],
 "metadata": {
  "interpreter": {
   "hash": "1131efc7635b497546d7e8fbc76ad9d1f9d5d5d7857bcde935d6feea39d08984"
  },
  "kernelspec": {
   "display_name": "Python 3.8.6 64-bit",
   "name": "python3"
  },
  "language_info": {
   "codemirror_mode": {
    "name": "ipython",
    "version": 3
   },
   "file_extension": ".py",
   "mimetype": "text/x-python",
   "name": "python",
   "nbconvert_exporter": "python",
   "pygments_lexer": "ipython3",
   "version": "3.8.6"
  },
  "orig_nbformat": 4
 },
 "nbformat": 4,
 "nbformat_minor": 2
}
